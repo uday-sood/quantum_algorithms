{
 "cells": [
  {
   "metadata": {
    "ExecuteTime": {
     "end_time": "2025-03-24T19:13:03.560342Z",
     "start_time": "2025-03-24T19:13:01.964568Z"
    }
   },
   "cell_type": "code",
   "source": [
    "import cirq\n",
    "import numpy as np\n",
    "import random\n",
    "\n",
    "import sympy"
   ],
   "id": "1acfa3fa4182195e",
   "outputs": [],
   "execution_count": 1
  },
  {
   "metadata": {},
   "cell_type": "markdown",
   "source": "Finding large cuts for a graph using variational circuits. We take a graph with $n$ vertices and $m$ edges. For every vertex, we add a qubit.",
   "id": "6b40800e4007a8e5"
  },
  {
   "metadata": {
    "ExecuteTime": {
     "end_time": "2025-03-24T19:17:32.416729Z",
     "start_time": "2025-03-24T19:17:32.405482Z"
    }
   },
   "cell_type": "code",
   "source": [
    "# Vertices n and Edges m.\n",
    "n = 6\n",
    "m = 8\n",
    "qubits = cirq.LineQubit.range(n)"
   ],
   "id": "502227daa583ba8a",
   "outputs": [],
   "execution_count": 2
  },
  {
   "metadata": {},
   "cell_type": "markdown",
   "source": "We randomly place the edges between vertices. This completes the graph that we have to cut. The variational approach follows a standard form called the QAOA (Quantum Approximate Optimisation Algorithm). The function that has to be maximised is $\\frac{1}{2}(1 - \\sum_{<i,j>}Z_i Z_j)$ where the sum is over the links. Whenever a link is cut, the cost function increases by 1 if the two sets of vertices seperated by the cut are assigned orthogonal states $\\ket{0}$ and $\\ket{1}$.",
   "id": "3cc13551f4b85a54"
  },
  {
   "metadata": {
    "ExecuteTime": {
     "end_time": "2025-03-24T19:19:41.078667Z",
     "start_time": "2025-03-24T19:19:41.065593Z"
    }
   },
   "cell_type": "code",
   "source": [
    "random.seed(0)\n",
    "links = []\n",
    "size_links = np.size(links)/2\n",
    "while size_links < m:\n",
    "    a = random.choice(qubits)\n",
    "    b = random.choice(qubits)\n",
    "    if a != b:\n",
    "        if [a,b] not in links and [b,a] not in links:\n",
    "            links.append([a,b])\n",
    "            size_links += 1\n",
    "print(links)"
   ],
   "id": "b323f2bf9aa0e030",
   "outputs": [
    {
     "name": "stdout",
     "output_type": "stream",
     "text": [
      "[[cirq.LineQubit(0), cirq.LineQubit(2)], [cirq.LineQubit(4), cirq.LineQubit(3)], [cirq.LineQubit(3), cirq.LineQubit(2)], [cirq.LineQubit(4), cirq.LineQubit(1)], [cirq.LineQubit(2), cirq.LineQubit(1)], [cirq.LineQubit(0), cirq.LineQubit(4)], [cirq.LineQubit(2), cirq.LineQubit(4)], [cirq.LineQubit(5), cirq.LineQubit(4)]]\n"
     ]
    }
   ],
   "execution_count": 4
  },
  {
   "metadata": {
    "ExecuteTime": {
     "end_time": "2025-03-24T19:26:16.440599Z",
     "start_time": "2025-03-24T19:26:16.432318Z"
    }
   },
   "cell_type": "code",
   "source": [
    "def qaoa_max_cut(gamma_params : np.ndarray, beta_params : np.ndarray, layers) -> cirq.Circuit:\n",
    "    '''This function produces the variational circuit with layers and parameters given'''\n",
    "    max_cut_circuit = cirq.Circuit()\n",
    "    max_cut_circuit.append(cirq.H.on_each(qubits))\n",
    "    for i in range(layers):\n",
    "        for [a,b] in links:\n",
    "            max_cut_circuit.append(cirq.ZZPowGate(exponent=gamma_params[i]).on(a,b))\n",
    "        max_cut_circuit.append(cirq.XPowGate(exponent = beta_params[i]).on_each(qubits))\n",
    "    return max_cut_circuit"
   ],
   "id": "f54ea351ca7db752",
   "outputs": [],
   "execution_count": 6
  },
  {
   "metadata": {},
   "cell_type": "markdown",
   "source": "The circuit is shown below for a single layer.",
   "id": "d67950f49e6c8f9e"
  },
  {
   "metadata": {
    "ExecuteTime": {
     "end_time": "2025-03-24T19:28:01.416395Z",
     "start_time": "2025-03-24T19:28:01.373642Z"
    }
   },
   "cell_type": "code",
   "source": [
    "gamma = sympy.Symbol('gamma')\n",
    "beta = sympy.Symbol('beta')\n",
    "max_cut_circuit = qaoa_max_cut(gamma_params=[gamma], beta_params=[beta], layers = 1)\n",
    "max_cut_circuit.append(cirq.measure(qubits))\n",
    "print(max_cut_circuit)"
   ],
   "id": "6706a66a1e5cc3d5",
   "outputs": [
    {
     "name": "stdout",
     "output_type": "stream",
     "text": [
      "                     ┌────────────────┐   ┌────────────────┐\n",
      "0: ───H───ZZ───────────────────────────────────────ZZ──────────X^beta─────────────────────────M───\n",
      "          │                                        │                                          │\n",
      "1: ───H───┼───────────────────ZZ───────────ZZ──────┼───────────X^beta─────────────────────────M───\n",
      "          │                   │            │       │                                          │\n",
      "2: ───H───ZZ^gamma────ZZ──────┼────────────ZZ^gamma┼───────────ZZ─────────X^beta──────────────M───\n",
      "                      │       │                    │           │                              │\n",
      "3: ───H───ZZ──────────ZZ^gamma┼────────────X^beta──┼───────────┼──────────────────────────────M───\n",
      "          │                   │                    │           │                              │\n",
      "4: ───H───ZZ^gamma────────────ZZ^gamma─────────────ZZ^gamma────ZZ^gamma───ZZ─────────X^beta───M───\n",
      "                                                                          │                   │\n",
      "5: ───H───────────────────────────────────────────────────────────────────ZZ^gamma───X^beta───M───\n",
      "                     └────────────────┘   └────────────────┘\n"
     ]
    }
   ],
   "execution_count": 7
  },
  {
   "metadata": {
    "ExecuteTime": {
     "end_time": "2025-03-24T19:29:02.449107Z",
     "start_time": "2025-03-24T19:29:02.442866Z"
    }
   },
   "cell_type": "code",
   "source": [
    "def cost_function_calculator(measurement, links):\n",
    "    '''A cost function calculator for the max cut. It has to be maximised to maximise the number of cuts.'''\n",
    "    cost = 0\n",
    "    for [a,b] in links:\n",
    "        index_a = qubits.index(a)\n",
    "        index_b = qubits.index(b)\n",
    "        if measurement[index_a] != measurement[index_b]:\n",
    "            cost = cost + 1\n",
    "    return cost"
   ],
   "id": "fcacf06aa3f19609",
   "outputs": [],
   "execution_count": 8
  },
  {
   "metadata": {
    "ExecuteTime": {
     "end_time": "2025-03-24T19:29:14.943482Z",
     "start_time": "2025-03-24T19:29:14.936977Z"
    }
   },
   "cell_type": "code",
   "source": [
    "# When there is no cut, each of the qubits have the same state, either 0 or 1.\n",
    "print(cost_function_calculator([1,1,1,1,1,1], links))"
   ],
   "id": "270234c023d97056",
   "outputs": [
    {
     "name": "stdout",
     "output_type": "stream",
     "text": [
      "0\n"
     ]
    }
   ],
   "execution_count": 9
  },
  {
   "metadata": {
    "ExecuteTime": {
     "end_time": "2025-03-24T19:29:59.150642Z",
     "start_time": "2025-03-24T19:29:59.109682Z"
    }
   },
   "cell_type": "code",
   "source": [
    "sim = cirq.Simulator()\n",
    "max_cut_circuit = qaoa_max_cut(gamma_params=[0.75], beta_params=[0.25], layers = 1)\n",
    "max_cut_circuit.append(cirq.measure(qubits))\n",
    "result = sim.run(max_cut_circuit, repetitions=5)\n",
    "measurement = result.measurements['q(0),q(1),q(2),q(3),q(4),q(5)']\n",
    "print(measurement)\n",
    "print(measurement[3])\n"
   ],
   "id": "e935b974034b4618",
   "outputs": [
    {
     "name": "stdout",
     "output_type": "stream",
     "text": [
      "[[1 1 1 0 0 0]\n",
      " [0 1 1 0 0 0]\n",
      " [1 1 0 0 0 1]\n",
      " [1 1 0 1 0 0]\n",
      " [1 1 0 1 0 0]]\n",
      "[1 1 0 1 0 0]\n"
     ]
    }
   ],
   "execution_count": 10
  },
  {
   "metadata": {
    "ExecuteTime": {
     "end_time": "2025-03-24T19:30:59.023318Z",
     "start_time": "2025-03-24T19:30:34.408194Z"
    }
   },
   "cell_type": "code",
   "source": [
    "steps = 100\n",
    "cost = np.zeros((steps,steps), dtype=float)\n",
    "config = np.zeros((steps,steps), dtype=tuple)\n",
    "for i in range(steps):\n",
    "    for j in range(steps):\n",
    "        beta_val = i*2/steps\n",
    "        gamma_val = j*2/steps\n",
    "        sim = cirq.Simulator()\n",
    "        circuit = qaoa_max_cut(gamma_params=[gamma_val], beta_params=[beta_val], layers = 1)\n",
    "        circuit.append(cirq.measure(qubits))\n",
    "        result = sim.run(circuit, repetitions=1)\n",
    "        measurement = result.measurements['q(0),q(1),q(2),q(3),q(4),q(5)'][0]\n",
    "        cost[i,j] = cost_function_calculator(measurement, links)\n",
    "        config[i,j] = measurement\n"
   ],
   "id": "42dcd140592e461c",
   "outputs": [],
   "execution_count": 11
  },
  {
   "metadata": {
    "ExecuteTime": {
     "end_time": "2025-03-24T19:32:45.760269Z",
     "start_time": "2025-03-24T19:32:45.742182Z"
    }
   },
   "cell_type": "code",
   "source": [
    "print(f\"The max cut estimator is :\", np.max(cost))\n",
    "np.where(cost == np.max(cost))"
   ],
   "id": "d6ff8ee337896342",
   "outputs": [
    {
     "name": "stdout",
     "output_type": "stream",
     "text": [
      "The max cut estimator is : 7.0\n"
     ]
    },
    {
     "data": {
      "text/plain": [
       "(array([ 0,  1,  3,  3,  4,  4,  5,  5,  5,  5,  5,  6,  6,  6,  6,  6,  6,\n",
       "         6,  6,  7,  7,  7,  7,  7,  7,  7,  7,  7,  8,  8,  8,  8,  8,  8,\n",
       "         9,  9, 10, 10, 10, 10, 10, 10, 11, 11, 11, 11, 11, 12, 12, 12, 12,\n",
       "        12, 12, 12, 12, 12, 13, 13, 13, 13, 13, 13, 13, 13, 13, 14, 14, 14,\n",
       "        14, 15, 15, 15, 15, 16, 16, 16, 16, 17, 17, 17, 17, 17, 18, 18, 18,\n",
       "        19, 19, 19, 19, 20, 20, 20, 20, 20, 20, 20, 21, 21, 21, 21, 21, 21,\n",
       "        21, 22, 22, 22, 23, 23, 23, 23, 23, 24, 24, 24, 25, 25, 25, 26, 26,\n",
       "        26, 27, 27, 27, 27, 28, 28, 29, 29, 30, 30, 30, 30, 30, 31, 31, 32,\n",
       "        32, 32, 33, 33, 33, 33, 33, 33, 33, 34, 34, 34, 34, 34, 34, 34, 34,\n",
       "        35, 35, 35, 35, 35, 35, 35, 36, 36, 36, 36, 37, 37, 37, 37, 37, 38,\n",
       "        38, 38, 38, 38, 38, 39, 39, 39, 39, 39, 39, 39, 40, 40, 40, 40, 40,\n",
       "        40, 40, 41, 41, 41, 41, 42, 42, 42, 42, 43, 43, 43, 43, 43, 43, 44,\n",
       "        44, 44, 44, 45, 45, 45, 46, 47, 47, 47, 47, 48, 48, 48, 49, 49, 49,\n",
       "        50, 50, 50, 50, 50, 50, 50, 50, 50, 51, 52, 52, 52, 52, 52, 52, 53,\n",
       "        53, 54, 54, 54, 54, 55, 55, 55, 55, 56, 56, 56, 56, 56, 56, 57, 57,\n",
       "        57, 58, 58, 59, 59, 59, 59, 59, 60, 60, 60, 60, 60, 60, 60, 60, 60,\n",
       "        60, 61, 61, 61, 61, 61, 61, 61, 61, 61, 62, 62, 62, 62, 62, 63, 63,\n",
       "        63, 63, 63, 63, 64, 64, 64, 64, 64, 64, 65, 65, 65, 65, 65, 65, 65,\n",
       "        65, 65, 65, 66, 66, 66, 66, 66, 66, 66, 66, 67, 67, 67, 67, 67, 67,\n",
       "        67, 68, 68, 68, 68, 68, 69, 69, 69, 70, 70, 70, 70, 71, 71, 71, 71,\n",
       "        71, 71, 71, 72, 72, 72, 72, 72, 73, 73, 73, 73, 74, 74, 74, 74, 74,\n",
       "        75, 75, 75, 75, 75, 76, 76, 76, 76, 77, 77, 77, 77, 77, 77, 77, 77,\n",
       "        78, 78, 78, 78, 79, 80, 80, 80, 81, 81, 81, 81, 82, 82, 82, 82, 82,\n",
       "        83, 83, 83, 83, 83, 84, 84, 84, 84, 84, 84, 84, 84, 84, 84, 84, 85,\n",
       "        85, 85, 85, 85, 85, 85, 85, 85, 86, 86, 86, 86, 87, 87, 87, 87, 87,\n",
       "        88, 88, 88, 88, 89, 89, 89, 89, 90, 91, 91, 91, 91, 92, 92, 92, 92,\n",
       "        92, 92, 93, 93, 93, 93, 94, 94, 94, 94, 94, 94, 94, 94, 95, 95, 95,\n",
       "        96, 96, 96, 96, 97, 97, 98, 98, 98, 99, 99]),\n",
       " array([48, 82, 51, 82,  1, 80, 23, 27, 30, 84, 97, 28, 32, 34, 80, 85, 87,\n",
       "        92, 96, 42, 46, 47, 76, 77, 81, 82, 90, 97, 78, 81, 82, 85, 88, 92,\n",
       "        35, 88, 21, 23, 39, 73, 81, 95, 53, 77, 80, 85, 87, 17, 18, 44, 47,\n",
       "        75, 82, 87, 92, 96, 37, 45, 75, 80, 81, 85, 88, 89, 92, 44, 74, 81,\n",
       "        94, 80, 82, 91, 92, 40, 42, 86, 89, 42, 66, 84, 88, 95, 53, 64, 88,\n",
       "        41, 56, 65, 86, 65, 72, 86, 87, 89, 90, 91,  3,  8, 40, 84, 86, 88,\n",
       "        96, 13, 26, 46,  3,  8, 44, 49, 98, 11, 59, 66, 84, 87, 93, 32, 37,\n",
       "        46,  9, 11, 15, 58,  5, 60,  7, 12,  0,  4,  7, 14, 21, 13, 19,  4,\n",
       "        46, 54,  5, 12, 14, 15, 21, 42, 56,  8, 11, 13, 15, 36, 37, 77, 81,\n",
       "         7, 15, 20, 23, 58, 62, 85,  9, 13, 20, 99,  7, 11, 16, 23, 52, 12,\n",
       "        14, 16, 20, 76, 81,  7, 14, 15, 16, 20, 24, 49,  7, 13, 14, 18, 29,\n",
       "        70, 73, 10, 17, 54, 79,  2, 16, 20, 47,  5,  9, 23, 54, 64, 71, 15,\n",
       "        27, 55, 77, 18, 19, 85, 16,  6, 75, 98, 99, 10, 40, 91, 11, 36, 61,\n",
       "         7, 16, 30, 71, 80, 88, 93, 94, 97, 39, 37, 50, 67, 77, 94, 96, 87,\n",
       "        88, 37, 79, 83, 97, 39, 45, 83, 85,  1, 36, 41, 44, 85, 91, 24, 72,\n",
       "        85, 44, 89, 41, 76, 81, 83, 88, 32, 73, 75, 82, 86, 87, 88, 92, 93,\n",
       "        97,  1, 76, 78, 79, 88, 89, 90, 91, 93, 43, 73, 82, 83, 90, 35, 43,\n",
       "        84, 86, 87, 90,  1, 39, 87, 90, 96, 97, 39, 41, 50, 52, 68, 79, 80,\n",
       "        82, 89, 96, 43, 76, 82, 83, 88, 91, 93, 97, 17, 41, 43, 54, 79, 94,\n",
       "        95, 18, 42, 57, 86, 96, 38, 54, 82, 40, 63, 82, 93, 44, 61, 78, 82,\n",
       "        91, 93, 94,  4,  7, 19, 58, 87, 42, 44, 89, 92, 42, 49, 60, 64, 84,\n",
       "        15, 44, 52, 56, 85, 16, 36, 55, 56,  9, 16, 17, 41, 49, 50, 82, 99,\n",
       "        15, 19, 67, 81, 12,  2,  4, 49, 11, 14, 55, 99,  8, 24, 30, 53, 61,\n",
       "        14, 15, 16, 17, 66,  3,  4,  9, 10, 13, 18, 25, 52, 54, 58, 78,  1,\n",
       "         4,  6, 13, 14, 18, 19, 21, 54, 15, 17, 24, 64,  9, 15, 17, 18, 19,\n",
       "        13, 19, 21, 99,  6,  8, 16, 17,  5,  9, 54, 64, 80, 12, 18, 62, 66,\n",
       "        69, 82,  7, 10, 47, 64, 11, 14, 18, 23, 54, 77, 78, 81,  7,  8, 10,\n",
       "        12, 13, 57, 74, 12, 89, 42, 53, 59,  9, 17]))"
      ]
     },
     "execution_count": 14,
     "metadata": {},
     "output_type": "execute_result"
    }
   ],
   "execution_count": 14
  },
  {
   "metadata": {},
   "cell_type": "markdown",
   "source": "The matrix represents the parameter values where this cut was found. Using these we can find a configuration that gives this large cut.",
   "id": "627c1dea1359b9ca"
  },
  {
   "metadata": {
    "ExecuteTime": {
     "end_time": "2025-03-24T19:36:28.835829Z",
     "start_time": "2025-03-24T19:36:28.823524Z"
    }
   },
   "cell_type": "code",
   "source": "print(f\"A configuration with the maximum cut estimator : {cost[0,48]} is : {config[0,48]}\")",
   "id": "478c9153b703c8c1",
   "outputs": [
    {
     "name": "stdout",
     "output_type": "stream",
     "text": [
      "A configuration with the maximum cut estimator : 7.0 is : [1 1 0 1 0 1]\n"
     ]
    }
   ],
   "execution_count": 17
  }
 ],
 "metadata": {
  "kernelspec": {
   "display_name": "Python 3",
   "language": "python",
   "name": "python3"
  },
  "language_info": {
   "codemirror_mode": {
    "name": "ipython",
    "version": 2
   },
   "file_extension": ".py",
   "mimetype": "text/x-python",
   "name": "python",
   "nbconvert_exporter": "python",
   "pygments_lexer": "ipython2",
   "version": "2.7.6"
  }
 },
 "nbformat": 4,
 "nbformat_minor": 5
}
