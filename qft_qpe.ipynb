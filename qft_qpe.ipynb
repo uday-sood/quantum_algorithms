{
 "cells": [
  {
   "cell_type": "code",
   "id": "initial_id",
   "metadata": {
    "collapsed": true,
    "ExecuteTime": {
     "end_time": "2025-03-24T15:16:43.083116Z",
     "start_time": "2025-03-24T15:16:41.753738Z"
    }
   },
   "source": [
    "import cirq\n",
    "import numpy as np\n",
    "import sympy"
   ],
   "outputs": [],
   "execution_count": 1
  },
  {
   "metadata": {
    "ExecuteTime": {
     "end_time": "2025-03-24T15:16:46.137344Z",
     "start_time": "2025-03-24T15:16:46.134717Z"
    }
   },
   "cell_type": "code",
   "source": [
    "def n_qubit_initialise(n):\n",
    "    \"\"\"We use this function to initialise n qubits on which we can perform a generalised QFT.\"\"\"\n",
    "    qubits = cirq.LineQubit.range(n)\n",
    "    return qubits"
   ],
   "id": "2cc4d3e76d4897fe",
   "outputs": [],
   "execution_count": 2
  },
  {
   "metadata": {
    "ExecuteTime": {
     "end_time": "2025-03-24T15:16:52.102771Z",
     "start_time": "2025-03-24T15:16:52.093242Z"
    }
   },
   "cell_type": "code",
   "source": [
    "class CZpow(cirq.Gate):\n",
    "    def __init__(self, d):\n",
    "        self.d = d\n",
    "\n",
    "    def _num_qubits_(self):\n",
    "        return 2\n",
    "\n",
    "    def _unitary_(self):\n",
    "        return np.array(\n",
    "            [\n",
    "                [1, 0, 0, 0],\n",
    "                [0, 1, 0, 0],\n",
    "                [0, 0, 1, 0],\n",
    "                [0, 0, 0, (1j)**(1/(2**(self.d - 1)))],\n",
    "            ]\n",
    "        )\n",
    "\n",
    "    def _circuit_diagram_info_(self, args):\n",
    "        return '@', f'CZ({self.d})'"
   ],
   "id": "9af62b875313da7",
   "outputs": [],
   "execution_count": 3
  },
  {
   "metadata": {
    "ExecuteTime": {
     "end_time": "2025-03-24T15:16:54.771471Z",
     "start_time": "2025-03-24T15:16:54.763817Z"
    }
   },
   "cell_type": "code",
   "source": [
    "def qft_moments(n):\n",
    "    ops_1 = []\n",
    "    ops_2 = []\n",
    "    for i in range(n):\n",
    "        ops_1 = [cirq.H(qubits[i])]\n",
    "        ops_2 = [CZpow(j-i)(qubits[j],qubits[i]) for j in np.arange(i+1,n)]\n",
    "        circuit_qft.append([ops_1,ops_2], strategy = cirq.InsertStrategy.NEW)"
   ],
   "id": "50e1b29766dbd271",
   "outputs": [],
   "execution_count": 4
  },
  {
   "metadata": {
    "ExecuteTime": {
     "end_time": "2025-03-24T15:16:57.318642Z",
     "start_time": "2025-03-24T15:16:57.313618Z"
    }
   },
   "cell_type": "code",
   "source": [
    "qubits = n_qubit_initialise(2)\n",
    "circuit_qft = cirq.Circuit()"
   ],
   "id": "b3aed534c5c8226a",
   "outputs": [],
   "execution_count": 5
  },
  {
   "metadata": {
    "ExecuteTime": {
     "end_time": "2025-03-24T15:17:00.002995Z",
     "start_time": "2025-03-24T15:16:59.992540Z"
    }
   },
   "cell_type": "code",
   "source": [
    "qft_moments(2)\n",
    "print(circuit_qft)"
   ],
   "id": "3e657968b69ae4cb",
   "outputs": [
    {
     "name": "stdout",
     "output_type": "stream",
     "text": [
      "0: ───H───CZ(1)───────\n",
      "          │\n",
      "1: ───────@───────H───\n"
     ]
    }
   ],
   "execution_count": 6
  },
  {
   "metadata": {
    "ExecuteTime": {
     "end_time": "2025-03-24T15:17:04.527799Z",
     "start_time": "2025-03-24T15:17:04.499959Z"
    }
   },
   "cell_type": "code",
   "source": [
    "simulator = cirq.Simulator()\n",
    "result = simulator.simulate(circuit_qft, initial_state=(1,0))\n",
    "print(result)"
   ],
   "id": "f5a2849a75847892",
   "outputs": [
    {
     "name": "stdout",
     "output_type": "stream",
     "text": [
      "measurements: (no measurements)\n",
      "\n",
      "qubits: (cirq.LineQubit(0), cirq.LineQubit(1))\n",
      "output vector: 0.5|00⟩ + 0.5|01⟩ - 0.5|10⟩ - 0.5|11⟩\n",
      "\n",
      "phase:\n",
      "output vector: |⟩\n"
     ]
    }
   ],
   "execution_count": 7
  },
  {
   "metadata": {},
   "cell_type": "markdown",
   "source": "If the input qubits are encoded in reverse, then the output is coded correctly i.e least significant qubits from the top. The QFT is a subroutine for the quantum phase estimation algorithm.",
   "id": "79e4db5a2e7fcb27"
  },
  {
   "metadata": {
    "ExecuteTime": {
     "end_time": "2025-02-22T01:46:59.507145Z",
     "start_time": "2025-02-22T01:46:59.485815Z"
    }
   },
   "cell_type": "code",
   "source": "cirq.unitary(circuit_qft)",
   "id": "3c3c5fc136911b99",
   "outputs": [
    {
     "data": {
      "text/plain": [
       "array([[ 0.5+0.j ,  0.5+0.j ,  0.5+0.j ,  0.5+0.j ],\n",
       "       [ 0.5+0.j , -0.5+0.j ,  0.5+0.j , -0.5+0.j ],\n",
       "       [ 0.5+0.j ,  0. +0.5j, -0.5+0.j ,  0. -0.5j],\n",
       "       [ 0.5+0.j ,  0. -0.5j, -0.5+0.j ,  0. +0.5j]])"
      ]
     },
     "execution_count": 16,
     "metadata": {},
     "output_type": "execute_result"
    }
   ],
   "execution_count": 16
  },
  {
   "metadata": {
    "ExecuteTime": {
     "end_time": "2025-03-24T15:17:21.878546Z",
     "start_time": "2025-03-24T15:17:21.858153Z"
    }
   },
   "cell_type": "code",
   "source": [
    "qft_op = cirq.qft(*qubits, without_reverse=True)\n",
    "circuit_inbuilt = cirq.Circuit(qft_op)\n",
    "cirq.unitary(circuit_inbuilt)\n"
   ],
   "id": "4003732caac2017",
   "outputs": [
    {
     "data": {
      "text/plain": [
       "array([[ 0.5+0.j ,  0.5+0.j ,  0.5+0.j ,  0.5+0.j ],\n",
       "       [ 0.5+0.j , -0.5+0.j ,  0.5+0.j , -0.5+0.j ],\n",
       "       [ 0.5+0.j ,  0. +0.5j, -0.5+0.j ,  0. -0.5j],\n",
       "       [ 0.5+0.j ,  0. -0.5j, -0.5+0.j ,  0. +0.5j]])"
      ]
     },
     "execution_count": 8,
     "metadata": {},
     "output_type": "execute_result"
    }
   ],
   "execution_count": 8
  },
  {
   "metadata": {},
   "cell_type": "markdown",
   "source": "The phase estimation has three layers followed by a measurement. The first layer is the n-qubit Hadamard on the n-register that stores the value of the eigenvalue $\\theta = y/2^n$. The second layer involves applications of control-U on the eigenstate $\\Psi$ prepared in the second register with exponentially increasing powers with control on the first register qubits. The third layer is the n-qubit inverse QFT.",
   "id": "fbb14984578ea47d"
  },
  {
   "metadata": {
    "ExecuteTime": {
     "end_time": "2025-03-24T15:17:34.544995Z",
     "start_time": "2025-03-24T15:17:34.517871Z"
    }
   },
   "cell_type": "code",
   "source": [
    "# Function for applying control U operations, assuming that the target is a single qubit state.\n",
    "qubits = n_qubit_initialise(4)\n",
    "m = cirq.NamedQubit('m')\n",
    "circuit_qpe = cirq.Circuit()\n",
    "def controlledUops(n, theta):\n",
    "    for i in range(n):\n",
    "        circuit_qpe.append(cirq.CZPowGate(exponent=2*theta*(2**(n-1-i)))(qubits[i],m))\n",
    "theta = sympy.Symbol('theta')\n",
    "circuit_qpe.append([cirq.H(qubits[i]) for i in range(4)])\n",
    "controlledUops(4, theta)\n",
    "third_op = cirq.qft(*qubits, without_reverse=False, inverse=True)\n",
    "circuit_qpe.append(third_op)\n",
    "circuit_qpe.append(cirq.measure(*qubits))\n",
    "print(circuit_qpe)"
   ],
   "id": "698d4b71712ffead",
   "outputs": [
    {
     "name": "stdout",
     "output_type": "stream",
     "text": [
      "0: ───H───@────────────────────────────────────────────────────────qft^-1───M───\n",
      "          │                                                        │        │\n",
      "1: ───H───┼──────────────@─────────────────────────────────────────#2───────M───\n",
      "          │              │                                         │        │\n",
      "2: ───H───┼──────────────┼─────────────@───────────────────────────#3───────M───\n",
      "          │              │             │                           │        │\n",
      "3: ───H───┼──────────────┼─────────────┼─────────────@─────────────#4───────M───\n",
      "          │              │             │             │\n",
      "m: ───────@^(16*theta)───@^(8*theta)───@^(4*theta)───@^(2*theta)────────────────\n"
     ]
    }
   ],
   "execution_count": 9
  },
  {
   "metadata": {
    "ExecuteTime": {
     "end_time": "2025-03-24T15:17:41.425425Z",
     "start_time": "2025-03-24T15:17:41.357351Z"
    }
   },
   "cell_type": "code",
   "source": [
    "simulator = cirq.Simulator()\n",
    "results = simulator.simulate_sweep(circuit_qpe, params=[{\"theta\": i/16} for i in range(16)], qubit_order=(*qubits, m), initial_state=(0, 0, 0, 0, 1))"
   ],
   "id": "b6de8d239af84ea0",
   "outputs": [],
   "execution_count": 10
  },
  {
   "metadata": {
    "ExecuteTime": {
     "end_time": "2025-03-24T15:17:50.944581Z",
     "start_time": "2025-03-24T15:17:50.921156Z"
    }
   },
   "cell_type": "code",
   "source": [
    "for result in results:\n",
    "    print(f\"param: {result.params}, result: {result}\\n\")"
   ],
   "id": "5f8348f89f2e5f92",
   "outputs": [
    {
     "name": "stdout",
     "output_type": "stream",
     "text": [
      "param: cirq.ParamResolver({'theta': 0.0}), result: measurements: q(0),q(1),q(2),q(3)=0000\n",
      "\n",
      "qubits: (cirq.LineQubit(0),)\n",
      "output vector: |0⟩\n",
      "\n",
      "qubits: (cirq.LineQubit(1),)\n",
      "output vector: |0⟩\n",
      "\n",
      "qubits: (cirq.LineQubit(2),)\n",
      "output vector: |0⟩\n",
      "\n",
      "qubits: (cirq.LineQubit(3),)\n",
      "output vector: |0⟩\n",
      "\n",
      "qubits: (cirq.NamedQubit('m'),)\n",
      "output vector: |1⟩\n",
      "\n",
      "phase:\n",
      "output vector: |⟩\n",
      "\n",
      "param: cirq.ParamResolver({'theta': 0.0625}), result: measurements: q(0),q(1),q(2),q(3)=0001\n",
      "\n",
      "qubits: (cirq.LineQubit(0),)\n",
      "output vector: |0⟩\n",
      "\n",
      "qubits: (cirq.LineQubit(1),)\n",
      "output vector: |0⟩\n",
      "\n",
      "qubits: (cirq.LineQubit(2),)\n",
      "output vector: |0⟩\n",
      "\n",
      "qubits: (cirq.LineQubit(3),)\n",
      "output vector: |1⟩\n",
      "\n",
      "qubits: (cirq.NamedQubit('m'),)\n",
      "output vector: |1⟩\n",
      "\n",
      "phase:\n",
      "output vector: |⟩\n",
      "\n",
      "param: cirq.ParamResolver({'theta': 0.125}), result: measurements: q(0),q(1),q(2),q(3)=0010\n",
      "\n",
      "qubits: (cirq.LineQubit(0),)\n",
      "output vector: |0⟩\n",
      "\n",
      "qubits: (cirq.LineQubit(1),)\n",
      "output vector: |0⟩\n",
      "\n",
      "qubits: (cirq.LineQubit(2),)\n",
      "output vector: |1⟩\n",
      "\n",
      "qubits: (cirq.LineQubit(3),)\n",
      "output vector: |0⟩\n",
      "\n",
      "qubits: (cirq.NamedQubit('m'),)\n",
      "output vector: |1⟩\n",
      "\n",
      "phase:\n",
      "output vector: |⟩\n",
      "\n",
      "param: cirq.ParamResolver({'theta': 0.1875}), result: measurements: q(0),q(1),q(2),q(3)=0011\n",
      "\n",
      "qubits: (cirq.LineQubit(0),)\n",
      "output vector: |0⟩\n",
      "\n",
      "qubits: (cirq.LineQubit(1),)\n",
      "output vector: |0⟩\n",
      "\n",
      "qubits: (cirq.LineQubit(2),)\n",
      "output vector: |1⟩\n",
      "\n",
      "qubits: (cirq.LineQubit(3),)\n",
      "output vector: |1⟩\n",
      "\n",
      "qubits: (cirq.NamedQubit('m'),)\n",
      "output vector: |1⟩\n",
      "\n",
      "phase:\n",
      "output vector: |⟩\n",
      "\n",
      "param: cirq.ParamResolver({'theta': 0.25}), result: measurements: q(0),q(1),q(2),q(3)=0100\n",
      "\n",
      "qubits: (cirq.LineQubit(0),)\n",
      "output vector: |0⟩\n",
      "\n",
      "qubits: (cirq.LineQubit(1),)\n",
      "output vector: |1⟩\n",
      "\n",
      "qubits: (cirq.LineQubit(2),)\n",
      "output vector: |0⟩\n",
      "\n",
      "qubits: (cirq.LineQubit(3),)\n",
      "output vector: |0⟩\n",
      "\n",
      "qubits: (cirq.NamedQubit('m'),)\n",
      "output vector: |1⟩\n",
      "\n",
      "phase:\n",
      "output vector: |⟩\n",
      "\n",
      "param: cirq.ParamResolver({'theta': 0.3125}), result: measurements: q(0),q(1),q(2),q(3)=0101\n",
      "\n",
      "qubits: (cirq.LineQubit(0),)\n",
      "output vector: |0⟩\n",
      "\n",
      "qubits: (cirq.LineQubit(1),)\n",
      "output vector: |1⟩\n",
      "\n",
      "qubits: (cirq.LineQubit(2),)\n",
      "output vector: |0⟩\n",
      "\n",
      "qubits: (cirq.LineQubit(3),)\n",
      "output vector: |1⟩\n",
      "\n",
      "qubits: (cirq.NamedQubit('m'),)\n",
      "output vector: |1⟩\n",
      "\n",
      "phase:\n",
      "output vector: |⟩\n",
      "\n",
      "param: cirq.ParamResolver({'theta': 0.375}), result: measurements: q(0),q(1),q(2),q(3)=0110\n",
      "\n",
      "qubits: (cirq.LineQubit(0),)\n",
      "output vector: |0⟩\n",
      "\n",
      "qubits: (cirq.LineQubit(1),)\n",
      "output vector: |1⟩\n",
      "\n",
      "qubits: (cirq.LineQubit(2),)\n",
      "output vector: |1⟩\n",
      "\n",
      "qubits: (cirq.LineQubit(3),)\n",
      "output vector: |0⟩\n",
      "\n",
      "qubits: (cirq.NamedQubit('m'),)\n",
      "output vector: |1⟩\n",
      "\n",
      "phase:\n",
      "output vector: |⟩\n",
      "\n",
      "param: cirq.ParamResolver({'theta': 0.4375}), result: measurements: q(0),q(1),q(2),q(3)=0111\n",
      "\n",
      "qubits: (cirq.LineQubit(0),)\n",
      "output vector: |0⟩\n",
      "\n",
      "qubits: (cirq.LineQubit(1),)\n",
      "output vector: |1⟩\n",
      "\n",
      "qubits: (cirq.LineQubit(2),)\n",
      "output vector: |1⟩\n",
      "\n",
      "qubits: (cirq.LineQubit(3),)\n",
      "output vector: |1⟩\n",
      "\n",
      "qubits: (cirq.NamedQubit('m'),)\n",
      "output vector: |1⟩\n",
      "\n",
      "phase:\n",
      "output vector: |⟩\n",
      "\n",
      "param: cirq.ParamResolver({'theta': 0.5}), result: measurements: q(0),q(1),q(2),q(3)=1000\n",
      "\n",
      "qubits: (cirq.LineQubit(0),)\n",
      "output vector: |1⟩\n",
      "\n",
      "qubits: (cirq.LineQubit(1),)\n",
      "output vector: |0⟩\n",
      "\n",
      "qubits: (cirq.LineQubit(2),)\n",
      "output vector: |0⟩\n",
      "\n",
      "qubits: (cirq.LineQubit(3),)\n",
      "output vector: |0⟩\n",
      "\n",
      "qubits: (cirq.NamedQubit('m'),)\n",
      "output vector: |1⟩\n",
      "\n",
      "phase:\n",
      "output vector: |⟩\n",
      "\n",
      "param: cirq.ParamResolver({'theta': 0.5625}), result: measurements: q(0),q(1),q(2),q(3)=1001\n",
      "\n",
      "qubits: (cirq.LineQubit(0),)\n",
      "output vector: |1⟩\n",
      "\n",
      "qubits: (cirq.LineQubit(1),)\n",
      "output vector: |0⟩\n",
      "\n",
      "qubits: (cirq.LineQubit(2),)\n",
      "output vector: |0⟩\n",
      "\n",
      "qubits: (cirq.LineQubit(3),)\n",
      "output vector: |1⟩\n",
      "\n",
      "qubits: (cirq.NamedQubit('m'),)\n",
      "output vector: |1⟩\n",
      "\n",
      "phase:\n",
      "output vector: |⟩\n",
      "\n",
      "param: cirq.ParamResolver({'theta': 0.625}), result: measurements: q(0),q(1),q(2),q(3)=1010\n",
      "\n",
      "qubits: (cirq.LineQubit(0),)\n",
      "output vector: |1⟩\n",
      "\n",
      "qubits: (cirq.LineQubit(1),)\n",
      "output vector: |0⟩\n",
      "\n",
      "qubits: (cirq.LineQubit(2),)\n",
      "output vector: |1⟩\n",
      "\n",
      "qubits: (cirq.LineQubit(3),)\n",
      "output vector: |0⟩\n",
      "\n",
      "qubits: (cirq.NamedQubit('m'),)\n",
      "output vector: |1⟩\n",
      "\n",
      "phase:\n",
      "output vector: |⟩\n",
      "\n",
      "param: cirq.ParamResolver({'theta': 0.6875}), result: measurements: q(0),q(1),q(2),q(3)=1011\n",
      "\n",
      "qubits: (cirq.LineQubit(0),)\n",
      "output vector: |1⟩\n",
      "\n",
      "qubits: (cirq.LineQubit(1),)\n",
      "output vector: |0⟩\n",
      "\n",
      "qubits: (cirq.LineQubit(2),)\n",
      "output vector: |1⟩\n",
      "\n",
      "qubits: (cirq.LineQubit(3),)\n",
      "output vector: |1⟩\n",
      "\n",
      "qubits: (cirq.NamedQubit('m'),)\n",
      "output vector: |1⟩\n",
      "\n",
      "phase:\n",
      "output vector: |⟩\n",
      "\n",
      "param: cirq.ParamResolver({'theta': 0.75}), result: measurements: q(0),q(1),q(2),q(3)=1100\n",
      "\n",
      "qubits: (cirq.LineQubit(0),)\n",
      "output vector: |1⟩\n",
      "\n",
      "qubits: (cirq.LineQubit(1),)\n",
      "output vector: |1⟩\n",
      "\n",
      "qubits: (cirq.LineQubit(2),)\n",
      "output vector: |0⟩\n",
      "\n",
      "qubits: (cirq.LineQubit(3),)\n",
      "output vector: |0⟩\n",
      "\n",
      "qubits: (cirq.NamedQubit('m'),)\n",
      "output vector: |1⟩\n",
      "\n",
      "phase:\n",
      "output vector: |⟩\n",
      "\n",
      "param: cirq.ParamResolver({'theta': 0.8125}), result: measurements: q(0),q(1),q(2),q(3)=1101\n",
      "\n",
      "qubits: (cirq.LineQubit(0),)\n",
      "output vector: |1⟩\n",
      "\n",
      "qubits: (cirq.LineQubit(1),)\n",
      "output vector: |1⟩\n",
      "\n",
      "qubits: (cirq.LineQubit(2),)\n",
      "output vector: |0⟩\n",
      "\n",
      "qubits: (cirq.LineQubit(3),)\n",
      "output vector: |1⟩\n",
      "\n",
      "qubits: (cirq.NamedQubit('m'),)\n",
      "output vector: |1⟩\n",
      "\n",
      "phase:\n",
      "output vector: |⟩\n",
      "\n",
      "param: cirq.ParamResolver({'theta': 0.875}), result: measurements: q(0),q(1),q(2),q(3)=1110\n",
      "\n",
      "qubits: (cirq.LineQubit(0),)\n",
      "output vector: |1⟩\n",
      "\n",
      "qubits: (cirq.LineQubit(1),)\n",
      "output vector: |1⟩\n",
      "\n",
      "qubits: (cirq.LineQubit(2),)\n",
      "output vector: |1⟩\n",
      "\n",
      "qubits: (cirq.LineQubit(3),)\n",
      "output vector: |0⟩\n",
      "\n",
      "qubits: (cirq.NamedQubit('m'),)\n",
      "output vector: |1⟩\n",
      "\n",
      "phase:\n",
      "output vector: |⟩\n",
      "\n",
      "param: cirq.ParamResolver({'theta': 0.9375}), result: measurements: q(0),q(1),q(2),q(3)=1111\n",
      "\n",
      "qubits: (cirq.LineQubit(0),)\n",
      "output vector: |1⟩\n",
      "\n",
      "qubits: (cirq.LineQubit(1),)\n",
      "output vector: |1⟩\n",
      "\n",
      "qubits: (cirq.LineQubit(2),)\n",
      "output vector: |1⟩\n",
      "\n",
      "qubits: (cirq.LineQubit(3),)\n",
      "output vector: |1⟩\n",
      "\n",
      "qubits: (cirq.NamedQubit('m'),)\n",
      "output vector: |1⟩\n",
      "\n",
      "phase:\n",
      "output vector: |⟩\n",
      "\n"
     ]
    }
   ],
   "execution_count": 11
  }
 ],
 "metadata": {
  "kernelspec": {
   "display_name": "Python 3",
   "language": "python",
   "name": "python3"
  },
  "language_info": {
   "codemirror_mode": {
    "name": "ipython",
    "version": 2
   },
   "file_extension": ".py",
   "mimetype": "text/x-python",
   "name": "python",
   "nbconvert_exporter": "python",
   "pygments_lexer": "ipython2",
   "version": "2.7.6"
  }
 },
 "nbformat": 4,
 "nbformat_minor": 5
}
