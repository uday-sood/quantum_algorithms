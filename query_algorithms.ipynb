{
 "cells": [
  {
   "cell_type": "markdown",
   "metadata": {
    "collapsed": false,
    "jupyter": {
     "outputs_hidden": false
    }
   },
   "source": "# Introductory quantum query algorithm implementations in Cirq."
  },
  {
   "cell_type": "code",
   "metadata": {
    "collapsed": false,
    "jupyter": {
     "outputs_hidden": false
    },
    "pycharm": {
     "name": "#%%\n"
    },
    "ExecuteTime": {
     "end_time": "2025-03-23T20:28:27.653066Z",
     "start_time": "2025-03-23T20:27:34.532449Z"
    }
   },
   "source": [
    "# Import packages\n",
    "import cirq\n",
    "import numpy as np\n",
    "import qiskit\n",
    "\n"
   ],
   "outputs": [],
   "execution_count": 1
  },
  {
   "cell_type": "markdown",
   "metadata": {
    "collapsed": false,
    "jupyter": {
     "outputs_hidden": false
    },
    "pycharm": {
     "name": "#%%\n"
    }
   },
   "source": [
    "## Deutsch Problem\n",
    "\n",
    "Input : A function $f : \\{0,1\\} \\rightarrow \\{0,1\\}$.\n",
    "\n",
    "Output : Whether the function is constant or balanced. 0 if the function is constant, 1 if balanced.\n",
    "\n",
    "Consider Boolean functions with one bit input $f_{i}(x)$. Such functions are either __constant__ or __balanced__. Here, $i = 0, 1$ are constant functions : $f_0(x) = 0$, and $f_1(x) = 1$, and $i = x, \\bar{x}$ are balanced functions : $f_x(x) = x$ and $f_{\\bar{x}}(x) = \\bar{x}$.\n",
    "\n",
    " Classically, to differentiate between balanced and constant functions, one needs to query the function twice, both for $x = 0$ and $x = 1$. However, when the problem is framed in terms of qubits and the action of the function in terms of a unitary on the qubits, then constant or balanced functions can be differentiated using just one query.\n",
    "\n",
    "The unitaries are defined according to the rule : $U_{i} : \\ket{x, y} \\rightarrow \\ket{x, y + f_i(x)}$.\n",
    "\n",
    "This is done by the following circuit :"
   ]
  },
  {
   "cell_type": "code",
   "metadata": {
    "ExecuteTime": {
     "end_time": "2025-03-23T20:38:55.856162Z",
     "start_time": "2025-03-23T20:38:55.839477Z"
    }
   },
   "source": [
    "# Define two qubits.\n",
    "q0, q1 = cirq.LineQubit.range(2)\n",
    "\n",
    "# The four kinds of Boolean functions on a single qubit, written as unitary gates on two qubits.\n",
    "oracles = {'0':[], \n",
    "           '1':[cirq.X(q1)],\n",
    "         'x':[cirq.CNOT(q0,q1)],\n",
    "          'xbar' : [cirq.CNOT(q0,q1), cirq.X(q1)]\n",
    "         }\n",
    "\n",
    "# The circuit that differentiates between constant and balanced functions.\n",
    "def deutsch(oracle):\n",
    "    yield cirq.H(q0), cirq.X(q1)\n",
    "    yield cirq.H(q1)\n",
    "    yield oracle\n",
    "    yield cirq.H(q0)\n",
    "    yield cirq.measure(q0)\n",
    "\n",
    "# Displaying the circuit for different choices of the oracle.\n",
    "for key, oracle in oracles.items():\n",
    "    print(f\"For function with i : {key} \\n \")\n",
    "    print(cirq.Circuit(deutsch(oracle)))\n",
    "    \n"
   ],
   "outputs": [
    {
     "name": "stdout",
     "output_type": "stream",
     "text": [
      "For function with i : 0 \n",
      " \n",
      "0: ───H───H───M───\n",
      "\n",
      "1: ───X───H───────\n",
      "For function with i : 1 \n",
      " \n",
      "0: ───H───H───M───\n",
      "\n",
      "1: ───X───H───X───\n",
      "For function with i : x \n",
      " \n",
      "0: ───H───────@───H───M───\n",
      "              │\n",
      "1: ───X───H───X───────────\n",
      "For function with i : xbar \n",
      " \n",
      "0: ───H───────@───H───M───\n",
      "              │\n",
      "1: ───X───H───X───X───────\n"
     ]
    }
   ],
   "execution_count": 5
  },
  {
   "cell_type": "code",
   "metadata": {
    "ExecuteTime": {
     "end_time": "2025-03-23T20:52:15.809051Z",
     "start_time": "2025-03-23T20:52:15.763490Z"
    }
   },
   "source": [
    "# When measuring the first qubit q_0, we find constant functions always give 0 as output while balanced functions give 1.\n",
    "for key, oracle in oracles.items():\n",
    "    simulator = cirq.Simulator()\n",
    "    result = simulator.run(cirq.Circuit(deutsch(oracle)), repetitions = 10)\n",
    "    print(f\"For key {key}\\n\")\n",
    "    print(result)\n"
   ],
   "outputs": [
    {
     "name": "stdout",
     "output_type": "stream",
     "text": [
      "For key 0\n",
      "\n",
      "q(0)=0000000000\n",
      "For key 1\n",
      "\n",
      "q(0)=0000000000\n",
      "For key x\n",
      "\n",
      "q(0)=1111111111\n",
      "For key xbar\n",
      "\n",
      "q(0)=1111111111\n"
     ]
    }
   ],
   "execution_count": 6
  },
  {
   "metadata": {},
   "cell_type": "markdown",
   "source": "These same circuits can also be drawn in Qiskit."
  },
  {
   "metadata": {
    "ExecuteTime": {
     "end_time": "2025-03-23T20:52:33.155007Z",
     "start_time": "2025-03-23T20:52:33.147310Z"
    }
   },
   "cell_type": "code",
   "source": [
    "# Circuit in QISKIT.\n",
    "from qiskit import QuantumCircuit\n",
    "\n",
    "def deutsch_function(oracle):\n",
    "    f = QuantumCircuit(2,1)\n",
    "    f.h(0)\n",
    "    f.x(1)\n",
    "    f.h(1)\n",
    "    if oracle in [\"x\", \"xbar\"]:\n",
    "        f.cx(0,1)\n",
    "    if oracle in [\"xbar\", \"1\"]:\n",
    "        f.x(1)\n",
    "    f.h(0)\n",
    "    f.measure(0,0)\n",
    "    return f\n"
   ],
   "outputs": [],
   "execution_count": 7
  },
  {
   "metadata": {
    "ExecuteTime": {
     "end_time": "2025-03-23T20:52:35.844483Z",
     "start_time": "2025-03-23T20:52:35.751434Z"
    }
   },
   "cell_type": "code",
   "source": [
    "for i in [\"0\", \"x\", \"xbar\", \"1\"]:\n",
    "    print(i)\n",
    "    display(deutsch_function(i).draw())"
   ],
   "outputs": [
    {
     "name": "stdout",
     "output_type": "stream",
     "text": [
      "0\n"
     ]
    },
    {
     "data": {
      "text/plain": [
       "     ┌───┐┌───┐┌─┐\n",
       "q_0: ┤ H ├┤ H ├┤M├\n",
       "     ├───┤├───┤└╥┘\n",
       "q_1: ┤ X ├┤ H ├─╫─\n",
       "     └───┘└───┘ ║ \n",
       "c: 1/═══════════╩═\n",
       "                0 "
      ],
      "text/html": [
       "<pre style=\"word-wrap: normal;white-space: pre;background: #fff0;line-height: 1.1;font-family: &quot;Courier New&quot;,Courier,monospace\">     ┌───┐┌───┐┌─┐\n",
       "q_0: ┤ H ├┤ H ├┤M├\n",
       "     ├───┤├───┤└╥┘\n",
       "q_1: ┤ X ├┤ H ├─╫─\n",
       "     └───┘└───┘ ║ \n",
       "c: 1/═══════════╩═\n",
       "                0 </pre>"
      ]
     },
     "metadata": {},
     "output_type": "display_data"
    },
    {
     "name": "stdout",
     "output_type": "stream",
     "text": [
      "x\n"
     ]
    },
    {
     "data": {
      "text/plain": [
       "     ┌───┐          ┌───┐┌─┐\n",
       "q_0: ┤ H ├───────■──┤ H ├┤M├\n",
       "     ├───┤┌───┐┌─┴─┐└───┘└╥┘\n",
       "q_1: ┤ X ├┤ H ├┤ X ├──────╫─\n",
       "     └───┘└───┘└───┘      ║ \n",
       "c: 1/═════════════════════╩═\n",
       "                          0 "
      ],
      "text/html": [
       "<pre style=\"word-wrap: normal;white-space: pre;background: #fff0;line-height: 1.1;font-family: &quot;Courier New&quot;,Courier,monospace\">     ┌───┐          ┌───┐┌─┐\n",
       "q_0: ┤ H ├───────■──┤ H ├┤M├\n",
       "     ├───┤┌───┐┌─┴─┐└───┘└╥┘\n",
       "q_1: ┤ X ├┤ H ├┤ X ├──────╫─\n",
       "     └───┘└───┘└───┘      ║ \n",
       "c: 1/═════════════════════╩═\n",
       "                          0 </pre>"
      ]
     },
     "metadata": {},
     "output_type": "display_data"
    },
    {
     "name": "stdout",
     "output_type": "stream",
     "text": [
      "xbar\n"
     ]
    },
    {
     "data": {
      "text/plain": [
       "     ┌───┐          ┌───┐┌─┐\n",
       "q_0: ┤ H ├───────■──┤ H ├┤M├\n",
       "     ├───┤┌───┐┌─┴─┐├───┤└╥┘\n",
       "q_1: ┤ X ├┤ H ├┤ X ├┤ X ├─╫─\n",
       "     └───┘└───┘└───┘└───┘ ║ \n",
       "c: 1/═════════════════════╩═\n",
       "                          0 "
      ],
      "text/html": [
       "<pre style=\"word-wrap: normal;white-space: pre;background: #fff0;line-height: 1.1;font-family: &quot;Courier New&quot;,Courier,monospace\">     ┌───┐          ┌───┐┌─┐\n",
       "q_0: ┤ H ├───────■──┤ H ├┤M├\n",
       "     ├───┤┌───┐┌─┴─┐├───┤└╥┘\n",
       "q_1: ┤ X ├┤ H ├┤ X ├┤ X ├─╫─\n",
       "     └───┘└───┘└───┘└───┘ ║ \n",
       "c: 1/═════════════════════╩═\n",
       "                          0 </pre>"
      ]
     },
     "metadata": {},
     "output_type": "display_data"
    },
    {
     "name": "stdout",
     "output_type": "stream",
     "text": [
      "1\n"
     ]
    },
    {
     "data": {
      "text/plain": [
       "     ┌───┐┌───┐     ┌─┐\n",
       "q_0: ┤ H ├┤ H ├─────┤M├\n",
       "     ├───┤├───┤┌───┐└╥┘\n",
       "q_1: ┤ X ├┤ H ├┤ X ├─╫─\n",
       "     └───┘└───┘└───┘ ║ \n",
       "c: 1/════════════════╩═\n",
       "                     0 "
      ],
      "text/html": [
       "<pre style=\"word-wrap: normal;white-space: pre;background: #fff0;line-height: 1.1;font-family: &quot;Courier New&quot;,Courier,monospace\">     ┌───┐┌───┐     ┌─┐\n",
       "q_0: ┤ H ├┤ H ├─────┤M├\n",
       "     ├───┤├───┤┌───┐└╥┘\n",
       "q_1: ┤ X ├┤ H ├┤ X ├─╫─\n",
       "     └───┘└───┘└───┘ ║ \n",
       "c: 1/════════════════╩═\n",
       "                     0 </pre>"
      ]
     },
     "metadata": {},
     "output_type": "display_data"
    }
   ],
   "execution_count": 8
  },
  {
   "cell_type": "markdown",
   "metadata": {},
   "source": [
    "## Duetsch - Jozsa problem\n",
    "\n",
    "Input : A function $f : \\{0,1\\}^n \\rightarrow \\{0,1\\}$\n",
    "\n",
    "Promise : The function is either constant or balanced.\n",
    "\n",
    "Output : $\\ket{0}^{\\otimes n}$ if $f$ is constant, some other state if balanced.\n",
    "\n",
    "\n",
    "The Deutsch problem has an n-qubit generalisation. Given a Boolean function on n-qubits and an assurance that the oracle is either balanced or constant, we can again differentiate between the two using just one query and a similar circuit.\n",
    "\n",
    "Classically, this would take $2^{n-1} + 1$ queries. However, a classical approach that is probabilistic can do much better. After $k$ queries, the probability that a balanced function would be mislabelled as constant drops exponentially $2^{-(k-1)}$.\n",
    "\n",
    "Consider the case $n = 2$:\n"
   ]
  },
  {
   "metadata": {
    "ExecuteTime": {
     "end_time": "2025-03-23T21:18:41.505555Z",
     "start_time": "2025-03-23T21:18:41.439034Z"
    }
   },
   "cell_type": "code",
   "source": [
    "q0, q1, q2 = cirq.LineQubit.range(3)\n",
    "\n",
    "oracles_constant = {'c_0':[],\n",
    "                   'c_1':[cirq.X(q2)]}\n",
    "oracles_balanced = {'1':[cirq.X(q0), cirq.CNOT(q0,q2), cirq.X(q0)],\n",
    "                   '2' : [cirq.X(q1), cirq.CNOT(q1,q2), cirq.X(q1)],\n",
    "                   '3' : [cirq.X(q0), cirq.X(q1), cirq.CNOT(q0,q2), cirq.CNOT(q1,q2), cirq.X(q0), cirq.X(q1)],\n",
    "                    '1bar' : [cirq.CNOT(q0,q2)],\n",
    "                    '2bar' : [cirq.CNOT(q1,q2)],\n",
    "                    '3bar' : [cirq.CNOT(q0,q2), cirq.CNOT(q1,q2)]\n",
    "                   }\n",
    "def deutsch_josza_n2(oracle):\n",
    "    yield cirq.H(q0), cirq.H(q1)\n",
    "    yield cirq.X(q2), cirq.H(q2)\n",
    "    yield oracle\n",
    "    yield cirq.H(q0), cirq.H(q1)\n",
    "\n",
    "\n",
    "\n",
    "\n",
    "print(\"Constant functions \\n\")\n",
    "for key, oracle in oracles_constant.items():\n",
    "    circuit = cirq.Circuit(deutsch_josza_n2(oracle))\n",
    "    circuit.append(cirq.measure(q0, q1), strategy = cirq.InsertStrategy.NEW)\n",
    "    print(f\"Function key : {key}\\n\")\n",
    "    print(circuit)\n",
    "    simulator = cirq.Simulator()\n",
    "    results = simulator.run(circuit, repetitions = 10)\n",
    "    print(results,\"\\n\")\n",
    "\n",
    "print(\"Balanced functions \\n\")\n",
    "for key, oracle in oracles_balanced.items():\n",
    "    circuit = cirq.Circuit(deutsch_josza_n2(oracle))\n",
    "    circuit.append(cirq.measure(q0, q1), strategy = cirq.InsertStrategy.NEW)\n",
    "    print(f\"Function key : {key}\\n\")\n",
    "    print(circuit)\n",
    "    simulator = cirq.Simulator()\n",
    "    results = simulator.run(circuit, repetitions = 10)\n",
    "    print(results,\"\\n\")\n"
   ],
   "outputs": [
    {
     "name": "stdout",
     "output_type": "stream",
     "text": [
      "Constant functions \n",
      "\n",
      "Function key : c_0\n",
      "\n",
      "0: ───H───H───M───\n",
      "              │\n",
      "1: ───H───H───M───\n",
      "\n",
      "2: ───X───H───────\n",
      "q(0),q(1)=0000000000, 0000000000 \n",
      "\n",
      "Function key : c_1\n",
      "\n",
      "0: ───H───H───────M───\n",
      "                  │\n",
      "1: ───H───H───────M───\n",
      "\n",
      "2: ───X───H───X───────\n",
      "q(0),q(1)=0000000000, 0000000000 \n",
      "\n",
      "Balanced functions \n",
      "\n",
      "Function key : 1\n",
      "\n",
      "0: ───H───X───@───X───H───M───\n",
      "              │           │\n",
      "1: ───H───H───┼───────────M───\n",
      "              │\n",
      "2: ───X───H───X───────────────\n",
      "q(0),q(1)=1111111111, 0000000000 \n",
      "\n",
      "Function key : 2\n",
      "\n",
      "0: ───H───H───────────────M───\n",
      "                          │\n",
      "1: ───H───X───@───X───H───M───\n",
      "              │\n",
      "2: ───X───H───X───────────────\n",
      "q(0),q(1)=0000000000, 1111111111 \n",
      "\n",
      "Function key : 3\n",
      "\n",
      "0: ───H───X───@───X───H───────M───\n",
      "              │               │\n",
      "1: ───H───X───┼───@───X───H───M───\n",
      "              │   │\n",
      "2: ───X───H───X───X───────────────\n",
      "q(0),q(1)=1111111111, 1111111111 \n",
      "\n",
      "Function key : 1bar\n",
      "\n",
      "0: ───H───────@───H───M───\n",
      "              │       │\n",
      "1: ───H───H───┼───────M───\n",
      "              │\n",
      "2: ───X───H───X───────────\n",
      "q(0),q(1)=1111111111, 0000000000 \n",
      "\n",
      "Function key : 2bar\n",
      "\n",
      "0: ───H───H───────────M───\n",
      "                      │\n",
      "1: ───H───────@───H───M───\n",
      "              │\n",
      "2: ───X───H───X───────────\n",
      "q(0),q(1)=0000000000, 1111111111 \n",
      "\n",
      "Function key : 3bar\n",
      "\n",
      "0: ───H───────@───H───────M───\n",
      "              │           │\n",
      "1: ───H───────┼───@───H───M───\n",
      "              │   │\n",
      "2: ───X───H───X───X───────────\n",
      "q(0),q(1)=1111111111, 1111111111 \n",
      "\n"
     ]
    }
   ],
   "execution_count": 9
  },
  {
   "cell_type": "markdown",
   "metadata": {},
   "source": "We find no support for the $\\ket{00}$ state in the case of balanced functions while constant functions only output $\\ket{00}$."
  },
  {
   "cell_type": "markdown",
   "metadata": {},
   "source": [
    "## Bernstein-Vazirani Problem\n",
    "\n",
    "Input : A function $f : \\{0,1\\}^n \\rightarrow \\{0,1\\}$.\n",
    "\n",
    "Promise : There exists binary sequence $a$ so that $f(x) = a.x$.\n",
    "\n",
    "Output : The string a.\n",
    "\n",
    " The Deutsch - Josza circuit can also be used to find the function $f(x) = a.x$ for some n-bit string $a$. In this case, the output is the state $\\ket{a}$ when the input is $\\ket{0, 0, ...., 0}$. Classically, we can find the string in n queries, evaluating each bit in $a$ one by one. The circuit finds the sequence in one query.\n",
    "\n",
    "Example for 5 qubits :\n"
   ]
  },
  {
   "cell_type": "code",
   "metadata": {
    "ExecuteTime": {
     "end_time": "2025-03-23T21:30:45.409940Z",
     "start_time": "2025-03-23T21:30:45.365306Z"
    }
   },
   "source": [
    "q0, q1, q2, q3, q4, q5 = cirq.LineQubit.range(6)\n",
    "a = [0, 1, 0, 1, 1]\n",
    "print(\"a =\", a)\n",
    "\n",
    "\n",
    "simulator = cirq.Simulator()\n",
    "def bv_algorithm():\n",
    "    yield cirq.X(q5)\n",
    "    yield cirq.H(q0), cirq.H(q1), cirq.H(q2), cirq.H(q3), cirq.H(q4), cirq.H(q5)\n",
    "    yield cirq.CNOT(q1,q5), cirq.CNOT(q3,q5), cirq.CNOT(q4,q5) # the control qubits are the non-zero elements in a.\n",
    "    yield cirq.H(q0), cirq.H(q1), cirq.H(q2), cirq.H(q3), cirq.H(q4)\n",
    "    yield cirq.measure(q0,q1,q2,q3,q4)\n",
    "\n",
    "results = simulator.run(cirq.Circuit(bv_algorithm()))\n",
    "print(\"\\nThe qubits q0,q1,q2,q3 and q4 have states :\\n\")\n",
    "print(results)\n"
   ],
   "outputs": [
    {
     "name": "stdout",
     "output_type": "stream",
     "text": [
      "a = [0, 1, 0, 1, 1]\n",
      "\n",
      "The qubits q0,q1,q2,q3 and q4 have states :\n",
      "\n",
      "q(0),q(1),q(2),q(3),q(4)=0, 1, 0, 1, 1\n"
     ]
    }
   ],
   "execution_count": 10
  },
  {
   "metadata": {},
   "cell_type": "markdown",
   "source": "To derive the above result formally, note that $H^{\\otimes n} \\ket{x} \\sim \\sum_y (-1)^{x.y} \\ket{y}$."
  },
  {
   "cell_type": "markdown",
   "metadata": {},
   "source": [
    "### Simon's problem\n",
    "\n",
    "Input : Two-to-one functions $f : \\{0,1\\}^n \\rightarrow \\{0,1\\}^m$.\n",
    "\n",
    "Promise : There is a period string $a$ such that $f(x) = f(x + a)$ for all x.\n",
    "\n",
    "Output : The string $a$.\n",
    "\n",
    " Consider 2-to-1 functions on n-qubits with an m-qubit output, which are periodic with n-bit period $a$. Then the problem of finding the period of the function is known as Simon's problem. The circuit can be summarized as follows :\n",
    "\n",
    "First we apply the Hadamard operators on the n-qubit register :\n",
    "$\\ket{0^{\\otimes n}, 0^{\\otimes m}} \\rightarrow  \\sum_{x = 0}^{2^n - 1} \\ket{x} \\ket{0^{\\otimes m}}$.\n",
    "\n",
    "Then we apply the unitary corresponding to the periodic function:\n",
    " $\\sum_{x = 0}^{2^n - 1} \\ket{x} \\ket{0^{\\otimes m}} \\rightarrow \\sum_{x = 0}^{2^n - 1} \\ket{x} \\ket{f(x)}$.\n",
    "\n",
    "Then we make measurements on the second register of qubits. Say we get some state $\\ket{f(x_0)}$ after the measurement, then the state in the first register would be $\\sim \\ket{x_0} + \\ket{x_0 + a}$. Applying Hadamard transformations on this first register and then measuring the state gives possible output states $\\ket{y}$ which satisfy the condition $y.a = 0$. From this information, we can obtain $a$ by repeatedly observing $\\ket{y}$.\n",
    "\n",
    "\n",
    "As an example, consider the periodic function on two qubits with the mapping :\n",
    "\n",
    "$f : (x_0,x_1) \\rightarrow (x_1,x_1)$ so that\n",
    "\n",
    "$(0,0) \\rightarrow (0,0)$\n",
    "\n",
    "$(0,1) \\rightarrow (1,1)$\n",
    "\n",
    "$(1,0) \\rightarrow (0,0)$\n",
    "\n",
    "$(1,1) \\rightarrow (1,1)$\n",
    "\n",
    "Here, the period is $a = (1, 0)$.\n"
   ]
  },
  {
   "cell_type": "code",
   "metadata": {
    "ExecuteTime": {
     "end_time": "2025-03-23T21:39:14.847048Z",
     "start_time": "2025-03-23T21:39:14.804667Z"
    }
   },
   "source": [
    "# Since we need an output with two registers, we keep 4 qubits.\n",
    "\n",
    "q0, q1, q2, q3 = cirq.LineQubit.range(4)\n",
    "\n",
    "def simon_algorithm():\n",
    "    yield cirq.H(q0), cirq.H(q1)\n",
    "    yield cirq.CNOT(q1,q2), cirq.CNOT(q1,q3)\n",
    "    yield cirq.measure(q2,q3)\n",
    "    yield cirq.H(q0), cirq.H(q1)\n",
    "    yield cirq.measure(q0,q1)\n",
    "\n",
    "simulator = cirq.Simulator()\n",
    "results = simulator.run(cirq.Circuit(simon_algorithm()), repetitions = 10)\n",
    "print(cirq.Circuit(simon_algorithm()))\n",
    "print(results)\n",
    "\n"
   ],
   "outputs": [
    {
     "name": "stdout",
     "output_type": "stream",
     "text": [
      "0: ───H───H───────────M───\n",
      "                      │\n",
      "1: ───H───@───@───H───M───\n",
      "          │   │\n",
      "2: ───────X───┼───M───────\n",
      "              │   │\n",
      "3: ───────────X───M───────\n",
      "q(0),q(1)=0000000000, 0111000101\n",
      "q(2),q(3)=1001101000, 1001101000\n"
     ]
    }
   ],
   "execution_count": 11
  },
  {
   "cell_type": "markdown",
   "metadata": {},
   "source": "Unique $q_0, q_1$ values are : (0,0), (0,1). Since $y.a = 0$, we find that $a = (a_0,0)$. Since the period cannot be $(0,0)$, it has to be $(1,0)$ which is the correct value for $a$. After n queries, the probability of failure of finding $a$ in this procedure decreases exponentially. On the other hand, finding the period is a very hard problem classically. Once, we evaluate the query and get some output $f(x)$, the only way to get information about the period is to evaluate the function again and get the same value f(x) for a different input. But $x+a$ is only one in an exponential number of possible inputs making a plausible solution hard."
  }
 ],
 "metadata": {
  "kernelspec": {
   "display_name": "Python 3 (ipykernel)",
   "language": "python",
   "name": "python3"
  },
  "language_info": {
   "codemirror_mode": {
    "name": "ipython",
    "version": 3
   },
   "file_extension": ".py",
   "mimetype": "text/x-python",
   "name": "python",
   "nbconvert_exporter": "python",
   "pygments_lexer": "ipython3",
   "version": "3.8.16"
  }
 },
 "nbformat": 4,
 "nbformat_minor": 4
}
